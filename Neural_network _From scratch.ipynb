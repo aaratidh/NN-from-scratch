{
 "cells": [
  {
   "cell_type": "code",
   "execution_count": 1,
   "id": "47d8e8e6",
   "metadata": {},
   "outputs": [],
   "source": [
    "import numpy as np\n",
    "import matplotlib.pyplot as plt "
   ]
  },
  {
   "cell_type": "code",
   "execution_count": 8,
   "id": "a25a2e1e",
   "metadata": {},
   "outputs": [],
   "source": [
    "#generating the data\n",
    "D=2\n",
    "def create_data(N, K):\n",
    "    X = np.zeros((N*K,D)) # data matrix (each row = single example)\n",
    "    y = np.zeros(N*K, dtype='uint8') # class labels\n",
    "    for j in range(K):\n",
    "        ix = range(N*j,N*(j+1))\n",
    "        r = np.linspace(0.0,1,N) # radius\n",
    "        t = np.linspace(j*4,(j+1)*4,N) + np.random.randn(N)*0.2 # theta\n",
    "        X[ix] = np.c_[r*np.sin(t), r*np.cos(t)]\n",
    "        y[ix] = j\n",
    "    return X, y\n",
    "\n",
    "class Layer_Dense:\n",
    "    def __init__(self,n_inputs , n_neurons):\n",
    "        self.weights = np.random.randn(n_inputs,n_neurons)# both arguments are the shape \n",
    "        self.biases = np.zeros((1, n_neurons))# 1 is the argument for shape\n",
    "    def forward(self, inputs):\n",
    "        self.output = np.dot(inputs, self.weights)+self.biases\n",
    "\n",
    "\n",
    "class Activation_ReLU:\n",
    "    def forward(self, inputs):\n",
    "        self.output = np.maximum(0,inputs)\n",
    "        \n",
    "\n",
    "X, y = create_data(100 ,3)        \n",
    "        \n",
    "layer1 = Layer_Dense(2,5)\n",
    "\n",
    "activation1 = Activation_ReLU()\n",
    "\n",
    "layer1.forward(X)"
   ]
  },
  {
   "cell_type": "code",
   "execution_count": null,
   "id": "e0844a0b",
   "metadata": {},
   "outputs": [],
   "source": []
  }
 ],
 "metadata": {
  "kernelspec": {
   "display_name": "Python 3",
   "language": "python",
   "name": "python3"
  },
  "language_info": {
   "codemirror_mode": {
    "name": "ipython",
    "version": 3
   },
   "file_extension": ".py",
   "mimetype": "text/x-python",
   "name": "python",
   "nbconvert_exporter": "python",
   "pygments_lexer": "ipython3",
   "version": "3.8.8"
  }
 },
 "nbformat": 4,
 "nbformat_minor": 5
}
