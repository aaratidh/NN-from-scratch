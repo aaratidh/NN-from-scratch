{
 "cells": [
  {
   "cell_type": "code",
   "execution_count": 22,
   "id": "b97fa842",
   "metadata": {},
   "outputs": [],
   "source": [
    "import numpy as np\n",
    "import matplotlib.pyplot as plt "
   ]
  },
  {
   "cell_type": "code",
   "execution_count": 2,
   "id": "2929b8ca",
   "metadata": {},
   "outputs": [],
   "source": [
    "X = [[1,2,3,2.5],\n",
    "     [2,5,-1,2],\n",
    "     [-1.5,2.7,3.3,-0.8]]"
   ]
  },
  {
   "cell_type": "code",
   "execution_count": 25,
   "id": "13897e59",
   "metadata": {},
   "outputs": [],
   "source": [
    "class Layer_Dense:\n",
    "    def __init__(self,n_inputs , n_neurons):\n",
    "        self.weights = np.random.randn(n_inputs,n_neurons)# both arguments are the shape \n",
    "        self.biases = np.zeros((1, n_neurons))# 1 is the argument for shape\n",
    "    def forwrad(self):\n",
    "        self.output = np.dot(inputs, self.weights)+self.biases\n",
    "# daimesion of the weight  neuronsdim *inputsdim   \n",
    "# as we are passing the inputs shape first in the weights because to avoid the \n",
    "# the trasnpose reuired later "
   ]
  },
  {
   "cell_type": "code",
   "execution_count": 26,
   "id": "ce8a74eb",
   "metadata": {},
   "outputs": [],
   "source": [
    "layer1 = Layer_Dense(4,5)\n"
   ]
  },
  {
   "cell_type": "code",
   "execution_count": 12,
   "id": "4593d9ef",
   "metadata": {},
   "outputs": [],
   "source": [
    "inputs = [0,2,-1,3.3,-2.7,1.1,2.2,-100]\n",
    "output =[]"
   ]
  },
  {
   "cell_type": "code",
   "execution_count": 13,
   "id": "65fe3fda",
   "metadata": {},
   "outputs": [
    {
     "name": "stdout",
     "output_type": "stream",
     "text": [
      "[0, 2, 0, 3.3, 0, 1.1, 2.2, 0]\n"
     ]
    }
   ],
   "source": [
    "# rect linear activation function \n",
    "for i in inputs:\n",
    "    output.append(max(0,i))\n",
    "    \n",
    "print(output)\n",
    "        "
   ]
  },
  {
   "cell_type": "code",
   "execution_count": 14,
   "id": "09484464",
   "metadata": {},
   "outputs": [],
   "source": [
    "\n",
    "class Activation_ReLU:\n",
    "    def forward(self, inputs):\n",
    "        self.output = np.maximum(0,inputs)"
   ]
  },
  {
   "cell_type": "code",
   "execution_count": 15,
   "id": "b14b4804",
   "metadata": {
    "scrolled": true
   },
   "outputs": [
    {
     "name": "stdout",
     "output_type": "stream",
     "text": [
      "Collecting nnfs\n",
      "  Downloading nnfs-0.5.1-py3-none-any.whl (9.1 kB)\n",
      "Requirement already satisfied: numpy in c:\\users\\hp\\anaconda3\\lib\\site-packages (from nnfs) (1.18.5)\n",
      "Installing collected packages: nnfs\n",
      "Successfully installed nnfs-0.5.1\n",
      "Note: you may need to restart the kernel to use updated packages.\n"
     ]
    }
   ],
   "source": [
    "pip install nnfs"
   ]
  },
  {
   "cell_type": "code",
   "execution_count": 17,
   "id": "9a222768",
   "metadata": {},
   "outputs": [],
   "source": [
    "import nnfs"
   ]
  },
  {
   "cell_type": "code",
   "execution_count": 18,
   "id": "27902f42",
   "metadata": {},
   "outputs": [
    {
     "data": {
      "text/plain": [
       "<module 'nnfs' from 'C:\\\\Users\\\\Hp\\\\anaconda3\\\\lib\\\\site-packages\\\\nnfs\\\\__init__.py'>"
      ]
     },
     "execution_count": 18,
     "metadata": {},
     "output_type": "execute_result"
    }
   ],
   "source": [
    "nnfs"
   ]
  },
  {
   "cell_type": "code",
   "execution_count": 19,
   "id": "5126c25c",
   "metadata": {},
   "outputs": [],
   "source": [
    "nnfs.init()"
   ]
  },
  {
   "cell_type": "code",
   "execution_count": 25,
   "id": "fde60415",
   "metadata": {},
   "outputs": [],
   "source": [
    "#generating the data\n",
    "\n",
    "def create_data(N, K):\n",
    "    X = np.zeros((N*K,D)) # data matrix (each row = single example)\n",
    "    y = np.zeros(N*K, dtype='uint8') # class labels\n",
    "    for j in range(K):\n",
    "        ix = range(N*j,N*(j+1))\n",
    "        r = np.linspace(0.0,1,N) # radius\n",
    "        t = np.linspace(j*4,(j+1)*4,N) + np.random.randn(N)*0.2 # theta\n",
    "        X[ix] = np.c_[r*np.sin(t), r*np.cos(t)]\n",
    "        y[ix] = j\n",
    "    return X, y\n",
    "\n",
    "class Layer_Dense:\n",
    "    def __init__(self,n_inputs , n_neurons):\n",
    "        self.weights = np.random.randn(n_inputs,n_neurons)# both arguments are the shape \n",
    "        self.biases = np.zeros((1, n_neurons))# 1 is the argument for shape\n",
    "    def forwrad(self):\n",
    "        self.output = np.dot(inputs, self.weights)+self.biases\n",
    "\n",
    "\n",
    "class Activation_ReLU:\n",
    "    def forward(self, inputs):\n",
    "        self.output = np.maximum(0,inputs)\n",
    "        \n",
    "layer1 = Layer_Dense(2,5)\n",
    "\n",
    "activation1 = Activation_ReLu()"
   ]
  },
  {
   "cell_type": "code",
   "execution_count": null,
   "id": "9484054e",
   "metadata": {},
   "outputs": [],
   "source": [
    "X , y = s"
   ]
  }
 ],
 "metadata": {
  "kernelspec": {
   "display_name": "Python 3",
   "language": "python",
   "name": "python3"
  },
  "language_info": {
   "codemirror_mode": {
    "name": "ipython",
    "version": 3
   },
   "file_extension": ".py",
   "mimetype": "text/x-python",
   "name": "python",
   "nbconvert_exporter": "python",
   "pygments_lexer": "ipython3",
   "version": "3.8.8"
  }
 },
 "nbformat": 4,
 "nbformat_minor": 5
}
